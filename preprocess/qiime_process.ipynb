{
 "metadata": {
  "name": ""
 },
 "nbformat": 3,
 "nbformat_minor": 0,
 "worksheets": [
  {
   "cells": [
    {
     "cell_type": "code",
     "collapsed": false,
     "input": [
      "from  os.path import basename\n",
      "from  os.path import splitext\n",
      "import os\n",
      "\n",
      "pythonexe = \"/usr/local/bin/python2.7\"\n",
      "qiimedir = \"/opt/qiime-1.6.0/bin\"\n",
      "seqs   = \"/space/users/ams/Dropbox/docs/proj/core-paper/exp/EXP25-qualfilter-reduced_b/merged/seqs.fna\"\n",
      "outdir = \"/space/users/ams/Dropbox/docs/proj/core-paper/exp/EXP25-qualfilter-reduced_b/qiime/\"\n",
      "\n",
      "identities = [ 0.9, 0.94, 0.97, 0.99 ]\n",
      "refseqs = \"/space/users/ams/data/midas/repseqs/97_V4.fasta\"\n",
      "taxfile = \"/space/users/ams/data/midas/tax/midas_taxonomy.txt\"\n",
      "ncores = 10"
     ],
     "language": "python",
     "metadata": {},
     "outputs": [],
     "prompt_number": 9
    },
    {
     "cell_type": "code",
     "collapsed": false,
     "input": [
      "for identity in identities:\n",
      "    \n",
      "    seqsfname = basename(seqs)\n",
      "    stem = splitext(seqsfname)[0]\n",
      "    outpath = \"{0}/otus{1}\".format(outdir, int(identity * 100) )\n",
      "    print \"writing to %s\" % outpath\n",
      "    \n",
      "    !$pythonexe $qiimedir/pick_otus.py -i $seqs -o $outpath/uclust_picked_otus --otu_picking_method uclust --similarity $identity\n",
      "    \n",
      "    # label output with otu identity\n",
      "    default_otusfname =  os.path.join(outpath, \"uclust_picked_otus\", stem + \"_otus.txt\")\n",
      "    print default_otusfname\n",
      "    otus = os.path.join(outpath, \"uclust_picked_otus\", \"{0}_otus{1}.txt\".format(stem, int(identity * 100)))\n",
      "    print \"otus: \" + otus\n",
      "    !mv $default_otusfname $otus\n",
      "    repset = os.path.join(outpath, \"{0}_rep_set{1}.fasta\".format(stem, int(identity * 100)))\n",
      "    replog = os.path.join(outpath, \"{0}_rep_set{1}.log\".format(stem, int(identity * 100)))\n",
      "    \n",
      "    !$pythonexe $qiimedir/pick_rep_set.py -i $otus -f $seqs -l $replog -o $repset --rep_set_picking_method most_abundant --sort_by otu\n",
      "    print \"midas taxonomy git hash:\"\n",
      "    githash = !git --git-dir=/space/users/ams/data/midas/.git --work-tree=/space/users/ams/data/midas/ log --pretty=oneline --abbrev-commit -n 1\n",
      "    print githash\n",
      "    \n",
      "    !$pythonexe $qiimedir/parallel_assign_taxonomy_rdp.py -i $repset -o $outpath/rdp_assigned_taxonomy -T --jobs_to_start $ncores --seconds_to_sleep 60 --reference_seqs_fp $refseqs --id_to_taxonomy_fp $taxfile --confidence 0.8\n",
      "    \n",
      "    taxass = os.path.join(outpath, \"rdp_assigned_taxonomy/{0}_rep_set{1}_tax_assignments.txt\".format(stem, int(identity * 100)))\n",
      "    biom_otutable = os.path.join(outpath, \"{0}_{1}_otutable.biom\".format(stem, int(identity * 100)))\n",
      "    \n",
      "    !$pythonexe $qiimedir/make_otu_table.py -i $otus -t $taxass -o $biom_otutable\n",
      "    !$pythonexe $qiimedir/per_library_stats.py -i $biom_otutable"
     ],
     "language": "python",
     "metadata": {},
     "outputs": [
      {
       "output_type": "stream",
       "stream": "stdout",
       "text": [
        "writing to /space/users/ams/Dropbox/docs/proj/core-paper/exp/EXP25-qualfilter-reduced_b/qiime//otus90\n"
       ]
      },
      {
       "output_type": "stream",
       "stream": "stdout",
       "text": [
        "/space/users/ams/Dropbox/docs/proj/core-paper/exp/EXP25-qualfilter-reduced_b/qiime//otus90/uclust_picked_otus/seqs_otus.txt\n",
        "otus: /space/users/ams/Dropbox/docs/proj/core-paper/exp/EXP25-qualfilter-reduced_b/qiime//otus90/uclust_picked_otus/seqs_otus90.txt\n"
       ]
      },
      {
       "output_type": "stream",
       "stream": "stdout",
       "text": [
        "midas taxonomy git hash:\n"
       ]
      },
      {
       "output_type": "stream",
       "stream": "stdout",
       "text": [
        "['28a4675 added incomplete reformat script for later...']\n"
       ]
      },
      {
       "output_type": "stream",
       "stream": "stdout",
       "text": [
        "Num samples: 48\r\n",
        "Num otus: 1362\r\n",
        "Num observations (sequences): 2374197.0\r\n",
        "Table density (fraction of non-zero values): 0.2367\r\n",
        "\r\n",
        "Seqs/sample summary:\r\n",
        " Min: 2707.0\r\n",
        " Max: 80915.0\r\n",
        " Median: 56344.5\r\n",
        " Mean: 49462.4375\r\n",
        " Std. dev.: 20320.9805814\r\n",
        " Median Absolute Deviation: 10149.0\r\n",
        " Default even sampling depth in\r\n",
        "  core_qiime_analyses.py (just a suggestion): 36011.0\r\n",
        " Sample Metadata Categories: None provided\r\n",
        " Observation Metadata Categories: taxonomy\r\n",
        "\r\n",
        "Seqs/sample detail:\r\n",
        " AMPA126: 2707.0\r\n",
        " AMPA161: 9409.0\r\n",
        " AMPA232: 11906.0\r\n",
        " AMPA236: 14155.0\r\n",
        " AMPA160: 14834.0\r\n",
        " AMPA233: 15851.0\r\n",
        " AMPA162: 17762.0\r\n",
        " AMPA234: 18028.0\r\n",
        " AMPA235: 18407.0\r\n",
        " AMPA163: 19898.0\r\n",
        " AMPA164: 36011.0\r\n",
        " AMPA032: 42269.0\r\n",
        " AMPA034: 42984.0\r\n",
        " AMPA031: 46353.0\r\n",
        " AMPA030: 46409.0\r\n",
        " AMPA033: 46487.0\r\n",
        " AMPA727: 46527.0\r\n",
        " AMPA724: 46694.0\r\n",
        " AMPA725: 47456.0\r\n",
        " AMPA028: 48697.0\r\n",
        " AMPA029: 49408.0\r\n",
        " AMPA726: 52152.0\r\n",
        " AMPA044: 52360.0\r\n",
        " AMPA047: 55111.0\r\n",
        " AMPA103: 57578.0\r\n",
        " AMPA104: 58727.0\r\n",
        " AMPA105: 59020.0\r\n",
        " AMPA102: 59796.0\r\n",
        " AMPA106: 59808.0\r\n",
        " AMPA578: 62008.0\r\n",
        " AMPA579: 62283.0\r\n",
        " AMPA055: 62436.0\r\n",
        " AMPA056: 63327.0\r\n",
        " AMPA568: 63395.0\r\n",
        " AMPA054: 64305.0\r\n",
        " AMPA570: 65371.0\r\n",
        " AMPA566: 66129.0\r\n",
        " AMPA562: 66651.0\r\n",
        " AMPA053: 67114.0\r\n",
        " AMPA615: 67132.0\r\n",
        " AMPA564: 67249.0\r\n",
        " AMPA563: 67549.0\r\n",
        " AMPA580: 67724.0\r\n",
        " AMPA561: 68267.0\r\n",
        " AMPA057: 69226.0\r\n",
        " AMPA581: 71487.0\r\n",
        " AMPA632: 74825.0\r\n",
        " AMPA110: 80915.0\r\n"
       ]
      },
      {
       "output_type": "stream",
       "stream": "stdout",
       "text": [
        "writing to /space/users/ams/Dropbox/docs/proj/core-paper/exp/EXP25-qualfilter-reduced_b/qiime//otus94\n"
       ]
      },
      {
       "output_type": "stream",
       "stream": "stdout",
       "text": [
        "/space/users/ams/Dropbox/docs/proj/core-paper/exp/EXP25-qualfilter-reduced_b/qiime//otus94/uclust_picked_otus/seqs_otus.txt\n",
        "otus: /space/users/ams/Dropbox/docs/proj/core-paper/exp/EXP25-qualfilter-reduced_b/qiime//otus94/uclust_picked_otus/seqs_otus94.txt\n"
       ]
      },
      {
       "output_type": "stream",
       "stream": "stdout",
       "text": [
        "midas taxonomy git hash:\n"
       ]
      },
      {
       "output_type": "stream",
       "stream": "stdout",
       "text": [
        "['28a4675 added incomplete reformat script for later...']\n"
       ]
      },
      {
       "output_type": "stream",
       "stream": "stdout",
       "text": [
        "Num samples: 48\r\n",
        "Num otus: 2541\r\n",
        "Num observations (sequences): 2374197.0\r\n",
        "Table density (fraction of non-zero values): 0.1999\r\n",
        "\r\n",
        "Seqs/sample summary:\r\n",
        " Min: 2707.0\r\n",
        " Max: 80915.0\r\n",
        " Median: 56344.5\r\n",
        " Mean: 49462.4375\r\n",
        " Std. dev.: 20320.9805814\r\n",
        " Median Absolute Deviation: 10149.0\r\n",
        " Default even sampling depth in\r\n",
        "  core_qiime_analyses.py (just a suggestion): 36011.0\r\n",
        " Sample Metadata Categories: None provided\r\n",
        " Observation Metadata Categories: taxonomy\r\n",
        "\r\n",
        "Seqs/sample detail:\r\n",
        " AMPA126: 2707.0\r\n",
        " AMPA161: 9409.0\r\n",
        " AMPA232: 11906.0\r\n",
        " AMPA236: 14155.0\r\n",
        " AMPA160: 14834.0\r\n",
        " AMPA233: 15851.0\r\n",
        " AMPA162: 17762.0\r\n",
        " AMPA234: 18028.0\r\n",
        " AMPA235: 18407.0\r\n",
        " AMPA163: 19898.0\r\n",
        " AMPA164: 36011.0\r\n",
        " AMPA032: 42269.0\r\n",
        " AMPA034: 42984.0\r\n",
        " AMPA031: 46353.0\r\n",
        " AMPA030: 46409.0\r\n",
        " AMPA033: 46487.0\r\n",
        " AMPA727: 46527.0\r\n",
        " AMPA724: 46694.0\r\n",
        " AMPA725: 47456.0\r\n",
        " AMPA028: 48697.0\r\n",
        " AMPA029: 49408.0\r\n",
        " AMPA726: 52152.0\r\n",
        " AMPA044: 52360.0\r\n",
        " AMPA047: 55111.0\r\n",
        " AMPA103: 57578.0\r\n",
        " AMPA104: 58727.0\r\n",
        " AMPA105: 59020.0\r\n",
        " AMPA102: 59796.0\r\n",
        " AMPA106: 59808.0\r\n",
        " AMPA578: 62008.0\r\n",
        " AMPA579: 62283.0\r\n",
        " AMPA055: 62436.0\r\n",
        " AMPA056: 63327.0\r\n",
        " AMPA568: 63395.0\r\n",
        " AMPA054: 64305.0\r\n",
        " AMPA570: 65371.0\r\n",
        " AMPA566: 66129.0\r\n",
        " AMPA562: 66651.0\r\n",
        " AMPA053: 67114.0\r\n",
        " AMPA615: 67132.0\r\n",
        " AMPA564: 67249.0\r\n",
        " AMPA563: 67549.0\r\n",
        " AMPA580: 67724.0\r\n",
        " AMPA561: 68267.0\r\n",
        " AMPA057: 69226.0\r\n",
        " AMPA581: 71487.0\r\n",
        " AMPA632: 74825.0\r\n",
        " AMPA110: 80915.0\r\n"
       ]
      },
      {
       "output_type": "stream",
       "stream": "stdout",
       "text": [
        "writing to /space/users/ams/Dropbox/docs/proj/core-paper/exp/EXP25-qualfilter-reduced_b/qiime//otus97\n"
       ]
      },
      {
       "output_type": "stream",
       "stream": "stdout",
       "text": [
        "/space/users/ams/Dropbox/docs/proj/core-paper/exp/EXP25-qualfilter-reduced_b/qiime//otus97/uclust_picked_otus/seqs_otus.txt\n",
        "otus: /space/users/ams/Dropbox/docs/proj/core-paper/exp/EXP25-qualfilter-reduced_b/qiime//otus97/uclust_picked_otus/seqs_otus97.txt\n"
       ]
      },
      {
       "output_type": "stream",
       "stream": "stdout",
       "text": [
        "midas taxonomy git hash:\n"
       ]
      },
      {
       "output_type": "stream",
       "stream": "stdout",
       "text": [
        "['28a4675 added incomplete reformat script for later...']\n"
       ]
      },
      {
       "output_type": "stream",
       "stream": "stdout",
       "text": [
        "Num samples: 48\r\n",
        "Num otus: 4586\r\n",
        "Num observations (sequences): 2374197.0\r\n",
        "Table density (fraction of non-zero values): 0.1619\r\n",
        "\r\n",
        "Seqs/sample summary:\r\n",
        " Min: 2707.0\r\n",
        " Max: 80915.0\r\n",
        " Median: 56344.5\r\n",
        " Mean: 49462.4375\r\n",
        " Std. dev.: 20320.9805814\r\n",
        " Median Absolute Deviation: 10149.0\r\n",
        " Default even sampling depth in\r\n",
        "  core_qiime_analyses.py (just a suggestion): 36011.0\r\n",
        " Sample Metadata Categories: None provided\r\n",
        " Observation Metadata Categories: taxonomy\r\n",
        "\r\n",
        "Seqs/sample detail:\r\n",
        " AMPA126: 2707.0\r\n",
        " AMPA161: 9409.0\r\n",
        " AMPA232: 11906.0\r\n",
        " AMPA236: 14155.0\r\n",
        " AMPA160: 14834.0\r\n",
        " AMPA233: 15851.0\r\n",
        " AMPA162: 17762.0\r\n",
        " AMPA234: 18028.0\r\n",
        " AMPA235: 18407.0\r\n",
        " AMPA163: 19898.0\r\n",
        " AMPA164: 36011.0\r\n",
        " AMPA032: 42269.0\r\n",
        " AMPA034: 42984.0\r\n",
        " AMPA031: 46353.0\r\n",
        " AMPA030: 46409.0\r\n",
        " AMPA033: 46487.0\r\n",
        " AMPA727: 46527.0\r\n",
        " AMPA724: 46694.0\r\n",
        " AMPA725: 47456.0\r\n",
        " AMPA028: 48697.0\r\n",
        " AMPA029: 49408.0\r\n",
        " AMPA726: 52152.0\r\n",
        " AMPA044: 52360.0\r\n",
        " AMPA047: 55111.0\r\n",
        " AMPA103: 57578.0\r\n",
        " AMPA104: 58727.0\r\n",
        " AMPA105: 59020.0\r\n",
        " AMPA102: 59796.0\r\n",
        " AMPA106: 59808.0\r\n",
        " AMPA578: 62008.0\r\n",
        " AMPA579: 62283.0\r\n",
        " AMPA055: 62436.0\r\n",
        " AMPA056: 63327.0\r\n",
        " AMPA568: 63395.0\r\n",
        " AMPA054: 64305.0\r\n",
        " AMPA570: 65371.0\r\n",
        " AMPA566: 66129.0\r\n",
        " AMPA562: 66651.0\r\n",
        " AMPA053: 67114.0\r\n",
        " AMPA615: 67132.0\r\n",
        " AMPA564: 67249.0\r\n",
        " AMPA563: 67549.0\r\n",
        " AMPA580: 67724.0\r\n",
        " AMPA561: 68267.0\r\n",
        " AMPA057: 69226.0\r\n",
        " AMPA581: 71487.0\r\n",
        " AMPA632: 74825.0\r\n",
        " AMPA110: 80915.0\r\n"
       ]
      },
      {
       "output_type": "stream",
       "stream": "stdout",
       "text": [
        "writing to /space/users/ams/Dropbox/docs/proj/core-paper/exp/EXP25-qualfilter-reduced_b/qiime//otus99\n"
       ]
      },
      {
       "output_type": "stream",
       "stream": "stdout",
       "text": [
        "/space/users/ams/Dropbox/docs/proj/core-paper/exp/EXP25-qualfilter-reduced_b/qiime//otus99/uclust_picked_otus/seqs_otus.txt\n",
        "otus: /space/users/ams/Dropbox/docs/proj/core-paper/exp/EXP25-qualfilter-reduced_b/qiime//otus99/uclust_picked_otus/seqs_otus99.txt\n"
       ]
      },
      {
       "output_type": "stream",
       "stream": "stdout",
       "text": [
        "midas taxonomy git hash:\n"
       ]
      },
      {
       "output_type": "stream",
       "stream": "stdout",
       "text": [
        "['28a4675 added incomplete reformat script for later...']\n"
       ]
      },
      {
       "output_type": "stream",
       "stream": "stdout",
       "text": [
        "Num samples: 48\r\n",
        "Num otus: 8276\r\n",
        "Num observations (sequences): 2374197.0\r\n",
        "Table density (fraction of non-zero values): 0.1262\r\n",
        "\r\n",
        "Seqs/sample summary:\r\n",
        " Min: 2707.0\r\n",
        " Max: 80915.0\r\n",
        " Median: 56344.5\r\n",
        " Mean: 49462.4375\r\n",
        " Std. dev.: 20320.9805814\r\n",
        " Median Absolute Deviation: 10149.0\r\n",
        " Default even sampling depth in\r\n",
        "  core_qiime_analyses.py (just a suggestion): 36011.0\r\n",
        " Sample Metadata Categories: None provided\r\n",
        " Observation Metadata Categories: taxonomy\r\n",
        "\r\n",
        "Seqs/sample detail:\r\n",
        " AMPA126: 2707.0\r\n",
        " AMPA161: 9409.0\r\n",
        " AMPA232: 11906.0\r\n",
        " AMPA236: 14155.0\r\n",
        " AMPA160: 14834.0\r\n",
        " AMPA233: 15851.0\r\n",
        " AMPA162: 17762.0\r\n",
        " AMPA234: 18028.0\r\n",
        " AMPA235: 18407.0\r\n",
        " AMPA163: 19898.0\r\n",
        " AMPA164: 36011.0\r\n",
        " AMPA032: 42269.0\r\n",
        " AMPA034: 42984.0\r\n",
        " AMPA031: 46353.0\r\n",
        " AMPA030: 46409.0\r\n",
        " AMPA033: 46487.0\r\n",
        " AMPA727: 46527.0\r\n",
        " AMPA724: 46694.0\r\n",
        " AMPA725: 47456.0\r\n",
        " AMPA028: 48697.0\r\n",
        " AMPA029: 49408.0\r\n",
        " AMPA726: 52152.0\r\n",
        " AMPA044: 52360.0\r\n",
        " AMPA047: 55111.0\r\n",
        " AMPA103: 57578.0\r\n",
        " AMPA104: 58727.0\r\n",
        " AMPA105: 59020.0\r\n",
        " AMPA102: 59796.0\r\n",
        " AMPA106: 59808.0\r\n",
        " AMPA578: 62008.0\r\n",
        " AMPA579: 62283.0\r\n",
        " AMPA055: 62436.0\r\n",
        " AMPA056: 63327.0\r\n",
        " AMPA568: 63395.0\r\n",
        " AMPA054: 64305.0\r\n",
        " AMPA570: 65371.0\r\n",
        " AMPA566: 66129.0\r\n",
        " AMPA562: 66651.0\r\n",
        " AMPA053: 67114.0\r\n",
        " AMPA615: 67132.0\r\n",
        " AMPA564: 67249.0\r\n",
        " AMPA563: 67549.0\r\n",
        " AMPA580: 67724.0\r\n",
        " AMPA561: 68267.0\r\n",
        " AMPA057: 69226.0\r\n",
        " AMPA581: 71487.0\r\n",
        " AMPA632: 74825.0\r\n",
        " AMPA110: 80915.0\r\n"
       ]
      }
     ],
     "prompt_number": 10
    },
    {
     "cell_type": "code",
     "collapsed": false,
     "input": [
      "!pwd\n"
     ],
     "language": "python",
     "metadata": {},
     "outputs": [
      {
       "output_type": "stream",
       "stream": "stdout",
       "text": [
        "/space/users/ams/Dropbox/docs/proj/core-paper/exp/EXP25-qualfilter-reduced_b/qiime\r\n"
       ]
      }
     ],
     "prompt_number": 11
    },
    {
     "cell_type": "code",
     "collapsed": false,
     "input": [
      "!ls\n"
     ],
     "language": "python",
     "metadata": {},
     "outputs": [
      {
       "output_type": "stream",
       "stream": "stdout",
       "text": [
        "jobs  otus90  otus94  otus97  otus99  qiime_process.html  qiime_process.ipynb\r\n"
       ]
      }
     ],
     "prompt_number": 12
    },
    {
     "cell_type": "code",
     "collapsed": false,
     "input": [],
     "language": "python",
     "metadata": {},
     "outputs": [],
     "prompt_number": 12
    }
   ],
   "metadata": {}
  }
 ]
}